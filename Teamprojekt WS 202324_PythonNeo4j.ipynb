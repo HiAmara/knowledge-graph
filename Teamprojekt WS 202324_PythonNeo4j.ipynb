{
 "cells": [
  {
   "cell_type": "markdown",
   "metadata": {},
   "source": [
    "### Beispielskript zur Nutzung von Neo4j über Python"
   ]
  },
  {
   "cell_type": "markdown",
   "metadata": {},
   "source": [
    "#### 1. Installieren und importieren aller relevanten Packages"
   ]
  },
  {
   "cell_type": "code",
   "execution_count": null,
   "metadata": {},
   "outputs": [],
   "source": [
    "import pandas as pd\n",
    "from neo4j import GraphDatabase"
   ]
  },
  {
   "cell_type": "markdown",
   "metadata": {},
   "source": [
    "#### 2. Erstellen eine Verbindung zur Neo4j Datenbank"
   ]
  },
  {
   "cell_type": "code",
   "execution_count": null,
   "metadata": {},
   "outputs": [],
   "source": [
    "class Neo4jConnection:\n",
    "    \n",
    "    def __init__(self, uri, user, pwd):\n",
    "        self.__uri = uri\n",
    "        self.__user = user\n",
    "        self.__pwd = pwd\n",
    "        self.__driver = None\n",
    "        try:\n",
    "            self.__driver = GraphDatabase.driver(self.__uri, auth=(self.__user, self.__pwd))\n",
    "        except Exception as e:\n",
    "            print(\"Failed to create the driver:\", e)\n",
    "        \n",
    "    def close(self):\n",
    "        if self.__driver is not None:\n",
    "            self.__driver.close()\n",
    "        \n",
    "    def query(self, query, db=None):\n",
    "        assert self.__driver is not None, \"Driver not initialized!\"\n",
    "        session = None\n",
    "        response = None\n",
    "        try: \n",
    "            session = self.__driver.session(database=db) if db is not None else self.__driver.session() \n",
    "            response = list(session.run(query))\n",
    "        except Exception as e:\n",
    "            print(\"Query failed:\", e)\n",
    "        finally: \n",
    "            if session is not None:\n",
    "                session.close()\n",
    "        return response"
   ]
  },
  {
   "cell_type": "code",
   "execution_count": null,
   "metadata": {},
   "outputs": [],
   "source": [
    "# Passe die Parameter an die erstellte Datenbank an\n",
    "conn = Neo4jConnection(uri=\"bolt://localhost:7687\", user=\"neo4j\", pwd=\"drugshortage\")"
   ]
  },
  {
   "cell_type": "markdown",
   "metadata": {},
   "source": [
    "#### 3. Importieren der Excel oder csv Datei"
   ]
  },
  {
   "cell_type": "code",
   "execution_count": null,
   "metadata": {},
   "outputs": [],
   "source": [
    "# Spezifiziere den Pfad der Datei\n",
    "drug_shortages_path = 'C:/Users/usena/Documents/Drug_Shortages_Dataset.xlsx'\n",
    "\n",
    "# Importiere die Datei (hier bspw. in Form eines Pandas Dataframes https://pandas.pydata.org/docs/reference/api/pandas.DataFrame.html)\n",
    "drug_shortages = pd.read_excel(drug_shortages_path)\n",
    "drug_shortages.head()"
   ]
  },
  {
   "cell_type": "markdown",
   "metadata": {},
   "source": [
    "#### 4. Verarbeitung der Daten"
   ]
  },
  {
   "cell_type": "code",
   "execution_count": null,
   "metadata": {},
   "outputs": [],
   "source": [
    "# Die Daten können nun in Python verarbeiten werden (bspw. bereinigen, filtern, übersetzen, etc.)\n",
    "# Alternativ kann auch ein bereits bearbeiteter Datensatz eingelesen werden \n",
    "# Dieser Schritt ist sehr relevant "
   ]
  },
  {
   "cell_type": "markdown",
   "metadata": {},
   "source": [
    "#### 5. Erstellen von Knoten "
   ]
  },
  {
   "cell_type": "code",
   "execution_count": null,
   "metadata": {},
   "outputs": [],
   "source": [
    "# Beispielsweise gibt es die Möglichkeit mit Constraints zu arbeiten\n",
    "# Erstelle von Constaints, um sicher zu gehen, dass jeder Knoten nur einmal auftritt\n",
    "constraint_drug = \"CREATE CONSTRAINT ON (d:drug) ASSERT d.name IS UNIQUE\"\n",
    "conn.query(constraint_drug)\n",
    "\n",
    "constraint_substance = \"CREATE CONSTRAINT ON (s:substance) ASSERT s.name IS UNIQUE\"\n",
    "conn.query(constraint_substance)"
   ]
  },
  {
   "cell_type": "code",
   "execution_count": null,
   "metadata": {},
   "outputs": [],
   "source": [
    "# Beispielhafte Erstellung von Knoten der Wirkstoffe (hier als 'substance' bezeichnet)\n",
    "for index, row in drug_shortages.iterrows():\n",
    "    # festlegen der Properties\n",
    "    atc_code = row['Atc Code']  \n",
    "    sub_name = row['Wirkstoffe']  \n",
    "    # erstellen der Knoten n vom Typ 'substance' mit properties\n",
    "    query = f\"CREATE (n:substance{{atc_code: '{atc_code}', name: '{sub_name}'}})\"\n",
    "    conn.query(query)"
   ]
  },
  {
   "cell_type": "code",
   "execution_count": null,
   "metadata": {},
   "outputs": [],
   "source": [
    "# Beispielhafte Erstellung von Knoten der Arzneimittel (hier als 'drug' bezeichnet)\n",
    "for index, row in drug_shortages.iterrows():\n",
    "    drug_name = row['Arzneimittlbezeichnung']  \n",
    "    query = f\"CREATE (n:drug{{name: '{drug_name}'}})\"\n",
    "    conn.query(query)"
   ]
  },
  {
   "cell_type": "markdown",
   "metadata": {},
   "source": [
    "#### 6. Erstellen von Verbindungen"
   ]
  },
  {
   "cell_type": "code",
   "execution_count": null,
   "metadata": {},
   "outputs": [],
   "source": [
    "# Beispielhafte Erstellung einer Verbindung zwischen den Knoten \"Drug\" und \"Substance\"\n",
    "for index, row in drug_shortages.iterrows():\n",
    "    drug_name = row['Arzneimittlbezeichnung']  \n",
    "    atc_code = row['Atc Code'] \n",
    "    \n",
    "    # Cypher-Abfrage zum Erstellen der Beziehung\n",
    "    query = f\"MATCH (d:drug {{name: '{drug_name}'}}), (s:substance {{atc_code: '{atc_code}'}}) CREATE (d)-[:HAS_SUBSTANCE]->(s)\"\n",
    "    conn.query(query)"
   ]
  }
 ],
 "metadata": {
  "kernelspec": {
   "display_name": "Python 3 (ipykernel)",
   "language": "python",
   "name": "python3"
  },
  "language_info": {
   "codemirror_mode": {
    "name": "ipython",
    "version": 3
   },
   "file_extension": ".py",
   "mimetype": "text/x-python",
   "name": "python",
   "nbconvert_exporter": "python",
   "pygments_lexer": "ipython3",
   "version": "3.11.5"
  }
 },
 "nbformat": 4,
 "nbformat_minor": 2
}
