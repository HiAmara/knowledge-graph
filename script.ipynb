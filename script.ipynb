{
 "cells": [
  {
   "cell_type": "markdown",
   "metadata": {},
   "source": [
    "### Python Script to build the Knowledge Graph in Neo4j"
   ]
  },
  {
   "cell_type": "markdown",
   "metadata": {},
   "source": [
    "#### 1. Install and import all the relevant packages"
   ]
  },
  {
   "cell_type": "code",
   "execution_count": null,
   "metadata": {},
   "outputs": [],
   "source": [
    "!pip install neo4j"
   ]
  },
  {
   "cell_type": "code",
   "execution_count": null,
   "metadata": {},
   "outputs": [],
   "source": [
    "import pandas as pd\n",
    "from neo4j import GraphDatabase\n",
    "from datetime import datetime"
   ]
  },
  {
   "cell_type": "markdown",
   "metadata": {},
   "source": [
    "#### 2. connect to Neo4J"
   ]
  },
  {
   "cell_type": "code",
   "execution_count": null,
   "metadata": {},
   "outputs": [],
   "source": [
    "class Neo4jConnection:\n",
    "    \n",
    "    def __init__(self, uri, user, pwd):\n",
    "        self.__uri = uri\n",
    "        self.__user = user\n",
    "        self.__pwd = pwd\n",
    "        self.__driver = None\n",
    "        try:\n",
    "            self.__driver = GraphDatabase.driver(self.__uri, auth=(self.__user, self.__pwd))\n",
    "        except Exception as e:\n",
    "            print(\"Failed to create the driver:\", e)\n",
    "        \n",
    "    def close(self):\n",
    "        if self.__driver is not None:\n",
    "            self.__driver.close()\n",
    "        \n",
    "    def query(self, query, db=None):\n",
    "        assert self.__driver is not None, \"Driver not initialized!\"\n",
    "        session = None\n",
    "        response = None\n",
    "        try: \n",
    "            session = self.__driver.session(database=db) if db is not None else self.__driver.session() \n",
    "            response = list(session.run(query))\n",
    "        except Exception as e:\n",
    "            print(\"Query failed:\", e)\n",
    "        finally: \n",
    "            if session is not None:\n",
    "                session.close()\n",
    "        return response"
   ]
  },
  {
   "cell_type": "code",
   "execution_count": null,
   "metadata": {},
   "outputs": [],
   "source": [
    "# Passe die Parameter an die erstellte Datenbank an\n",
    "conn = Neo4jConnection(uri=\"bolt://localhost:7687\", user=\"neo4j\", pwd=\"password\")"
   ]
  },
  {
   "cell_type": "markdown",
   "metadata": {},
   "source": [
    "#### 3. Import the datasets"
   ]
  },
  {
   "cell_type": "markdown",
   "metadata": {},
   "source": [
    "# Report Dataset"
   ]
  },
  {
   "cell_type": "code",
   "execution_count": null,
   "metadata": {
    "scrolled": false
   },
   "outputs": [],
   "source": [
    "#Geben Sie den Pfadname der Datei Shortages_Report_Dataset an\n",
    "shortages_report_path = r'C:\\Users\\jinji\\Desktop\\Data Science\\Programming Projects\\Neo4J für Teamprojekt\\datensätze für neo4j\\Shortages_Report_Dataset.xlsx'\n",
    "shortages_report = pd.read_excel(shortages_report_path)\n",
    "shortages_report.head()"
   ]
  },
  {
   "cell_type": "markdown",
   "metadata": {},
   "source": [
    "# Substances Dataset"
   ]
  },
  {
   "cell_type": "code",
   "execution_count": null,
   "metadata": {},
   "outputs": [],
   "source": [
    "#Geben Sie den Pfadname der Datei Substances_Dataset an\n",
    "substances_data_path = r'C:\\Users\\jinji\\Desktop\\Data Science\\Programming Projects\\Neo4J für Teamprojekt\\datensätze für neo4j\\Substances_Dataset_entdoppelt.xlsx'\n",
    "substances_data = pd.read_excel(substances_data_path)\n",
    "substances_data.head()"
   ]
  },
  {
   "cell_type": "markdown",
   "metadata": {},
   "source": [
    "# Drugs (medications) Dataset"
   ]
  },
  {
   "cell_type": "code",
   "execution_count": null,
   "metadata": {},
   "outputs": [],
   "source": [
    "#Geben Sie den Pfadname der Datei Drugs_Dataset an\n",
    "drugs_path = r'C:\\Users\\jinji\\Desktop\\Data Science\\Programming Projects\\Neo4J für Teamprojekt\\datensätze für neo4j\\Drugs_Dataset_14_01_24.xlsx'\n",
    "drugs_data = pd.read_excel(drugs_path, dtype={'PZN': str})\n",
    "drugs_data.head()"
   ]
  },
  {
   "cell_type": "markdown",
   "metadata": {},
   "source": [
    "# Alternative Drugs Dataset"
   ]
  },
  {
   "cell_type": "code",
   "execution_count": null,
   "metadata": {
    "scrolled": true
   },
   "outputs": [],
   "source": [
    "#Geben Sie den Pfadname der Datei Drugs_Alternative_Dataset an\n",
    "alternatives_data_path = r'C:\\Users\\jinji\\Desktop\\Data Science\\Programming Projects\\Neo4J für Teamprojekt\\datensätze für neo4j\\Alternative_PZN_keine_Doppelungen.xlsx'\n",
    "alternatives_data = pd.read_excel(alternatives_data_path, dtype={'PZN': str, 'Alternative_PZN': str, 'ENR_Alternative': str })\n",
    "alternatives_data.head()"
   ]
  },
  {
   "cell_type": "markdown",
   "metadata": {},
   "source": [
    "# Check Data columns"
   ]
  },
  {
   "cell_type": "code",
   "execution_count": null,
   "metadata": {},
   "outputs": [],
   "source": [
    "print(shortages_report.columns)"
   ]
  },
  {
   "cell_type": "code",
   "execution_count": null,
   "metadata": {},
   "outputs": [],
   "source": [
    "print(drugs_data.columns)"
   ]
  },
  {
   "cell_type": "markdown",
   "metadata": {},
   "source": [
    "# Constrainer"
   ]
  },
  {
   "cell_type": "code",
   "execution_count": null,
   "metadata": {},
   "outputs": [],
   "source": [
    "####Constaints mit PZN Und ATC CODE\n",
    "# Erstelle von Constaints, um sicher zu gehen, dass jeder Knoten nur einmal auftritt\n",
    "# Constraint für 'drug' Label und 'PZN' Eigenschaft\n",
    "constraint_drug_query = \"CREATE CONSTRAINT drug_PZN_unique IF NOT EXISTS For (d:drug) Require d.PZN IS UNIQUE\"\n",
    "conn.query(constraint_drug_query)\n",
    "\n",
    "# Constraint für 'substance' Label und 'atc_code' Eigenschaft\n",
    "constraint_substance_query = \"CREATE CONSTRAINT substance_atc_code_unique IF NOT EXISTS for (s:substance) require s.ATC_Code IS UNIQUE\"\n",
    "conn.query(constraint_substance_query)\n",
    "\n",
    "constraint_drug_query = \"CREATE CONSTRAINT substance_report_id_unique IF NOT EXISTS For (r:report) Require r.report_id IS UNIQUE\"\n",
    "conn.query(constraint_drug_query)\n",
    "\n",
    "constraint_drug_query = \"CREATE CONSTRAINT substance_producer_unique IF NOT EXISTS For (p:producer) Require p.producer IS UNIQUE\"\n",
    "conn.query(constraint_drug_query)"
   ]
  },
  {
   "cell_type": "markdown",
   "metadata": {},
   "source": [
    "# Drug Nodes"
   ]
  },
  {
   "cell_type": "code",
   "execution_count": null,
   "metadata": {
    "scrolled": true
   },
   "outputs": [],
   "source": [
    "for index, row in drugs_data.iterrows():\n",
    "    \n",
    "    ## Collecting Properties\n",
    "    PZN = str(row['PZN']).zfill(8)\n",
    "    drug_name = row['Arzneimittlbezeichnung']\n",
    "    Atc_Code = row ['Atc Code']\n",
    "    license_holder = row['Zulassungsinhaber']\n",
    "    dosage_form = row['Darreichungsform']\n",
    "    treatment_group = row['Obergruppe']\n",
    "    treatmen_group_ATC_Code = row ['Obergruppe ATC-Code']\n",
    "    precise_upper_group = row['präzisere Obergruppe']\n",
    "    paediatric_drug = row['Kinderarzneimittel']\n",
    "    generic_drug = row ['Generikum']\n",
    "    price = row['Preis']\n",
    "    \n",
    "    query = f\"MERGE (n:drug {{name: '{drug_name}', PZN: '{PZN}', dosage_form: '{dosage_form}', license_holder: '{license_holder}', price: '{price}', alternative_to: '', precise_upper_group: '{precise_upper_group}', paediatric_drug: '{paediatric_drug}', generic_drug: '{generic_drug}', Atc_Code: '{Atc_Code}', treatment_group: '{treatment_group}', treatmen_group_ATC_Code: '{treatmen_group_ATC_Code}' }})\"\n",
    "    conn.query(query)\n",
    "\n",
    "    print(f\"Medikamenten-Knoten für PZN: {PZN} erstellt.\")\n"
   ]
  },
  {
   "cell_type": "markdown",
   "metadata": {},
   "source": [
    "# Alternative Drugs Nodes"
   ]
  },
  {
   "cell_type": "code",
   "execution_count": null,
   "metadata": {},
   "outputs": [],
   "source": [
    "print(alternatives_data.columns)"
   ]
  },
  {
   "cell_type": "code",
   "execution_count": null,
   "metadata": {
    "scrolled": true
   },
   "outputs": [],
   "source": [
    "for index, row in alternatives_data.iterrows():\n",
    "    name = row['Alternativpräparat']\n",
    "    PZN = str(row['Alternative_PZN']).zfill(8)\n",
    "    ENR = row['ENR_Alternative']\n",
    "    alternative_to = str(row['PZN']).zfill(8)\n",
    "    \n",
    "    query = f\"MERGE (d:drug {{drug_name: '{drug_name}', PZN: '{PZN}', ENR: '{ENR}', alternative_to: '{alternative_to}'}})\"\n",
    "    conn.query(query)\n",
    "    print(f\"Knoten mit PZN {PZN} wurde erstellt\")\n"
   ]
  },
  {
   "cell_type": "markdown",
   "metadata": {},
   "source": [
    "# Substance Nodes"
   ]
  },
  {
   "cell_type": "code",
   "execution_count": null,
   "metadata": {},
   "outputs": [],
   "source": [
    "print(substances_data.columns)"
   ]
  },
  {
   "cell_type": "code",
   "execution_count": null,
   "metadata": {},
   "outputs": [],
   "source": [
    " # festlegen der Properties\n",
    "\n",
    "for index, row in substances_data.iterrows():\n",
    "    atc_code = row['ATC-Code']  \n",
    "    sub_name = row['Wirkstoffe']\n",
    "    treatment_name = row['Obergruppe']\n",
    "    treatment_atc_code = row['Obergruppe ATC']\n",
    "    treatment_subgroup_name = row['Präzisere Obergruppe']\n",
    "    treatment_subgroup_atc_code = row['Präzisere Obergruppe ATC']\n",
    "    relevant_to_supply = row['Versorgungsrelevant']\n",
    "    \n",
    "    query = f\"MERGE (n:substance {{atc_code: '{atc_code}', name: '{sub_name}', treatment_name: '{treatment_name}',  treatment_atc_code: '{treatment_atc_code}', treatment_subgroup_name: '{treatment_subgroup_name}', treatment_subgroup_atc_code: '{treatment_subgroup_atc_code}', relevant_to_supply: '{relevant_to_supply}'}})\"\n",
    "    conn.query(query)\n",
    "    \n",
    "    print(f\"Wirkstoffknoten für ATC_Code {atc_code} erstellt.\")"
   ]
  },
  {
   "cell_type": "markdown",
   "metadata": {},
   "source": [
    "# Reasons Nodes"
   ]
  },
  {
   "cell_type": "code",
   "execution_count": null,
   "metadata": {
    "scrolled": true
   },
   "outputs": [],
   "source": [
    "for index, row in shortages_report.iterrows():\n",
    "    reason = row['Grund']\n",
    "    #reason_typ = row['Art des Grundes']\n",
    "    #assumption_about_the_reason= row['Anm. zum Grund']\n",
    "\n",
    "    query = f\"Merge (r:reason{{reason:'{reason}' }})\"\n",
    "    \n",
    "    conn.query(query)\n",
    "\n",
    "    print(f\"Knoten für Grund '{reason}' erstellt.\")\n"
   ]
  },
  {
   "cell_type": "markdown",
   "metadata": {},
   "source": [
    "# Report Nodes"
   ]
  },
  {
   "cell_type": "code",
   "execution_count": null,
   "metadata": {
    "scrolled": true
   },
   "outputs": [],
   "source": [
    "print(shortages_report.columns)"
   ]
  },
  {
   "cell_type": "code",
   "execution_count": null,
   "metadata": {
    "scrolled": true
   },
   "outputs": [],
   "source": [
    "for index, row in shortages_report.iterrows():\n",
    "    report_id = row['Report_ID']\n",
    "    PZN = row['PZN']\n",
    "    ENR = row['ENR']\n",
    "    report_typ = row['Meldungsart']\n",
    "    #begin = row['Beginn']\n",
    "    #end = row['Ende']\n",
    "    time_span = row ['Dauer (Tage)']\n",
    "    #last_report = row['Datum der letzten Meldung']\n",
    "    #first_report = row['Datum der Erstmeldung']\n",
    "    ATC_Code = row['Atc Code']\n",
    "    drugs_name = row['Arzneimittlbezeichnung']  # Hier ist der Spaltenname unverändert\n",
    "    producer = row['Zulassungsinhaber']\n",
    "    information_for_specialist_circles = row['Info an Fachkreise']\n",
    "    dosage_form = row['Darreichungsform']\n",
    "    \n",
    "    begin = datetime.combine(row['Beginn'], datetime.min.time())\n",
    "    end = datetime.combine(row['Ende'], datetime.min.time())\n",
    "    last_report = datetime.combine(row['Datum der letzten Meldung'], datetime.min.time())\n",
    "    first_report = datetime.combine(row['Datum der Erstmeldung'], datetime.min.time())\n",
    "    \n",
    "    \n",
    "    query = (\n",
    "    f\"MERGE (r:report \"\n",
    "    f\"{{\"\n",
    "    f\"report_id: '{report_id}', \"\n",
    "    f\"PZN: '{PZN}', \"\n",
    "    f\"ENR: '{ENR}', \"\n",
    "    f\"report_typ: '{report_typ}', \"\n",
    "    f\"begin: date('{begin.strftime('%Y-%m-%d')}'), \"\n",
    "    f\"end: date('{end.strftime('%Y-%m-%d')}'), \"\n",
    "    f\"last_report: date('{last_report.strftime('%Y-%m-%d')}'), \"\n",
    "    f\"first_report: date('{first_report.strftime('%Y-%m-%d')}'), \" \n",
    "    f\"time_span: '{time_span}',\"\n",
    "    f\"ATC_Code: '{ATC_Code}', \"\n",
    "    f\"drugs_name: '{drugs_name}', \"\n",
    "    f\"producer: '{producer}', \"\n",
    "    f\"information_for_specialist_circles: '{information_for_specialist_circles}', \"\n",
    "    f\"dosage_form: '{dosage_form}'\"\n",
    "    f\"}})\"\n",
    "    )\n",
    "    \n",
    "\n",
    "    conn.query(query)\n",
    "\n",
    "    print(f\"Berichtsknoten für Meldungs ID {report_id} erstellt.\")\n"
   ]
  },
  {
   "cell_type": "markdown",
   "metadata": {},
   "source": [
    "# Producer Nodes"
   ]
  },
  {
   "cell_type": "code",
   "execution_count": null,
   "metadata": {},
   "outputs": [],
   "source": [
    "for index, row in shortages_report.iterrows():\n",
    "    producer = row['Zulassungsinhaber']\n",
    "    phone = row['Telefon']\n",
    "    mail = row['E-Mail']\n",
    "    ENR = row['ENR']\n",
    "    query = f\"MERGE (r:producer {{producer:'{producer}', phone: '{phone}', mail: '{mail}', ENR: '{ENR}'}})\"\n",
    "    \n",
    "    conn.query(query)\n",
    "\n",
    "    print(f\"Knoten für Zulassungsinhaber '{producer}' erstellt.\")\n"
   ]
  },
  {
   "cell_type": "markdown",
   "metadata": {},
   "source": [
    "# Treatment Nodes"
   ]
  },
  {
   "cell_type": "code",
   "execution_count": null,
   "metadata": {},
   "outputs": [],
   "source": [
    "for index, row in drugs_data.iterrows():\n",
    "    treatment = row['Obergruppe']\n",
    "    treatment_atc_code = row ['Obergruppe ATC-Code']\n",
    "    query = f\"MERGE (o:treatment {{treatment: '{treatment}'}})\"\n",
    "    conn.query(query)\n",
    "    "
   ]
  },
  {
   "cell_type": "markdown",
   "metadata": {},
   "source": [
    "# Connection ATC and PZN (has_substance)"
   ]
  },
  {
   "cell_type": "code",
   "execution_count": null,
   "metadata": {},
   "outputs": [],
   "source": [
    "#Wählen Sie die Datei ATC_PZN_Connection aus\n",
    "pzn_atc_path = r'C:\\Users\\jinji\\Desktop\\Data Science\\Programming Projects\\Neo4J für Teamprojekt\\datensätze für neo4j\\has_substance_fertig.xlsx'\n",
    "pzn_atc = pd.read_excel (pzn_atc_path, dtype={'PZN': str} )\n",
    "pzn_atc.head()"
   ]
  },
  {
   "cell_type": "code",
   "execution_count": null,
   "metadata": {
    "scrolled": true
   },
   "outputs": [],
   "source": [
    "# Beispielhafte Erstellung einer Verbindung zwischen den Knoten \"Drug\" und \"Substance\"\n",
    "for index, row in pzn_atc.iterrows():\n",
    "    PZN = str(row['PZN']).zfill(8)  \n",
    "    atc_code = row['Atc Code'] \n",
    "    \n",
    "    # Cypher-Abfrage zum Erstellen der Beziehung\n",
    "    query = f\"MATCH (d:drug {{PZN: '{PZN}'}}), (s:substance {{atc_code: '{atc_code}'}}) Merge (d)-[:has_substance]->(s)\"\n",
    "    conn.query(query)\n",
    "    \n",
    "    print(f\"Verbindung zwischen PZN: {PZN} und Atc-Code: {atc_code} erstellt.\")\n",
    "    \n",
    "     "
   ]
  },
  {
   "cell_type": "markdown",
   "metadata": {},
   "source": [
    "# Connection Report ID and PZN (report_has)"
   ]
  },
  {
   "cell_type": "code",
   "execution_count": null,
   "metadata": {
    "scrolled": true
   },
   "outputs": [],
   "source": [
    "#Geben Sie den Pfadname der Datei ReportID_PZN_Connection an\n",
    "report_drug_path = r'C:\\Users\\jinji\\Desktop\\Data Science\\Programming Projects\\Neo4J für Teamprojekt\\datensätze für neo4j\\report_has_fertig.xlsx'\n",
    "report_drug = pd.read_excel (report_drug_path, dtype={'PZN': str, 'Report_ID': str})\n",
    "report_drug.head()"
   ]
  },
  {
   "cell_type": "code",
   "execution_count": null,
   "metadata": {},
   "outputs": [],
   "source": [
    "for index, row in report_drug.iterrows():\n",
    "    report_id = str(row['Report_ID'])\n",
    "    PZN = str(row['PZN']).zfill(8)\n",
    "    query = f\"MATCH (r:report {{report_id: '{report_id}'}}), (d:drug {{PZN: '{PZN}'}}) MERGE (r)-[:report_has]->(d)\"\n",
    "    conn.query(query)\n",
    "\n",
    "    \n",
    "    print(f\"Verbindung zwischen report id: {report_id} und PZN: {PZN} erstellt.\")\n"
   ]
  },
  {
   "cell_type": "markdown",
   "metadata": {},
   "source": [
    "# Connection Reason and PZN (reason_influences)"
   ]
  },
  {
   "cell_type": "code",
   "execution_count": null,
   "metadata": {},
   "outputs": [],
   "source": [
    "#Geben Sie den Pfadname der Datei ReportID_PZN_Connection an\n",
    "reason_influences_path = r'C:\\Users\\jinji\\Desktop\\Data Science\\Programming Projects\\Neo4J für Teamprojekt\\datensätze für neo4j\\reason_influences_fertig.xlsx'\n",
    "reason_influences = pd.read_excel (reason_influences_path, dtype={'PZN': str})\n",
    "reason_influences.head()"
   ]
  },
  {
   "cell_type": "code",
   "execution_count": null,
   "metadata": {},
   "outputs": [],
   "source": [
    "for index, row in reason_influences.iterrows():\n",
    "    PZN = str(row['PZN']).zfill(8)\n",
    "    reason = row['Grund']\n",
    "    \n",
    "     #Cypher-Abfrage zum Erstellen der Beziehung\n",
    "    query = f\"MATCH (d:drug {{PZN: '{PZN}'}}), (r:reason {{reason: '{reason}'}}) Merge (r)-[:reason_influences]->(d)\"\n",
    "    conn.query (query)\n",
    "    \n",
    "    print(f\"Verbindung zwischen PZN: {PZN} und Gründen: {reason} erstellt.\")"
   ]
  },
  {
   "cell_type": "markdown",
   "metadata": {},
   "source": [
    "# Connection Report ID and Reason (because)"
   ]
  },
  {
   "cell_type": "code",
   "execution_count": null,
   "metadata": {},
   "outputs": [],
   "source": [
    "for index, row in shortages_report.iterrows():\n",
    "    report_id = str(row['Report_ID'])\n",
    "    reason = row['Grund']\n",
    "    \n",
    "     #Cypher-Abfrage zum Erstellen der Beziehung\n",
    "    query = f\"MATCH (w:report {{report_id: '{report_id}'}}), (r:reason {{reason: '{reason}'}}) Merge (w)-[:because]->(r)\"\n",
    "    conn.query (query)\n",
    "    \n",
    "    print(f\"Verbindung zwischen Report_ID: {report_id} und Grund: {reason} erstellt.\")"
   ]
  },
  {
   "cell_type": "markdown",
   "metadata": {},
   "source": [
    "# Connection Producer and PZN (producer_of)"
   ]
  },
  {
   "cell_type": "code",
   "execution_count": null,
   "metadata": {
    "scrolled": true
   },
   "outputs": [],
   "source": [
    "print(drugs_data.columns)"
   ]
  },
  {
   "cell_type": "code",
   "execution_count": null,
   "metadata": {},
   "outputs": [],
   "source": [
    "for index, row in drugs_data.iterrows():\n",
    "    producer = row['Zulassungsinhaber']\n",
    "    PZN = str(row['PZN']).zfill(8)\n",
    "    \n",
    "    query = f\"MATCH (d:drug {{PZN:'{PZN}'}}), (p:producer {{producer:'{producer}'}}) MERGE (p)-[:producer_of]->(d)\"\n",
    "    conn.query(query)\n"
   ]
  },
  {
   "cell_type": "markdown",
   "metadata": {},
   "source": [
    "# Connection ATZ and Treatment (used_for)"
   ]
  },
  {
   "cell_type": "code",
   "execution_count": null,
   "metadata": {},
   "outputs": [],
   "source": [
    "print(substances_data.columns)"
   ]
  },
  {
   "cell_type": "code",
   "execution_count": null,
   "metadata": {},
   "outputs": [],
   "source": [
    "for index, row in substances_data.iterrows():\n",
    "    atc_code = row['ATC-Code']\n",
    "    treatment = row['Obergruppe']\n",
    "    \n",
    "    #Verbindugn zwischen den \n",
    "    query = f\"MATCH (s:substance {{atc_code:'{atc_code}'}}), (t:treatment {{treatment:'{treatment}'}}) Merge (s)-[:used_for]->(t)\"\n",
    "    conn.query(query)\n"
   ]
  },
  {
   "cell_type": "markdown",
   "metadata": {},
   "source": [
    "# Connection PZN and alternative PZN (HAS_ALTERNATIVE)"
   ]
  },
  {
   "cell_type": "code",
   "execution_count": null,
   "metadata": {},
   "outputs": [],
   "source": [
    "print(alternatives_data.columns)"
   ]
  },
  {
   "cell_type": "code",
   "execution_count": null,
   "metadata": {
    "scrolled": true
   },
   "outputs": [],
   "source": [
    "for index, row in alternatives_data.iterrows():\n",
    "    PZN = str(row['PZN']).zfill(8)\n",
    "    alternative_PZN = str(row['Alternative_PZN']).zfill(8)\n",
    "    \n",
    "    # Erstelle die Beziehung\n",
    "    create_relation_query = f\"MATCH (drug1:drug {{PZN: '{PZN}'}}), (drug2:drug {{PZN: '{alternative_PZN}'}}) Merge (drug1)-[:HAS_ALTERNATIVE]->(drug2)\"\n",
    "    conn.query(create_relation_query)\n",
    "    \n",
    "    print(f\"Beziehung zwischen PZN: {PZN} und Alternative_PZN: {alternative_PZN} erstellt.\")\n"
   ]
  },
  {
   "cell_type": "markdown",
   "metadata": {},
   "source": [
    "# NOT NECESSARY FOR THE KNOWLEDGE GRAPH - Script to split up PZNs of one cell into individual rows"
   ]
  },
  {
   "cell_type": "code",
   "execution_count": null,
   "metadata": {},
   "outputs": [],
   "source": [
    "# Lade die Excel-Datei in ein Pandas DataFrame\n",
    "file_path = '/Users/olesuhrmann/Documents/Studium KIT/7. Semester/Teamprojekt/Datensätze_aktuell/Alternativ_Verbindung.xlsx'  # Passe den Dateipfad an\n",
    "df = pd.read_excel(file_path)\n",
    "\n",
    "# Erstelle ein neues DataFrame für die aufgeteilten Zeilen\n",
    "new_rows = []\n",
    "\n",
    "# Iteriere durch jede Zeile des ursprünglichen DataFrames\n",
    "for _, row in df.iterrows():\n",
    "    # Teile die PZNs auf, falls sie durch ein Trennzeichen getrennt sind\n",
    "    pzn_list = str(row['Alternative_PZN']).split(',')  # Passe die Spaltenbezeichnung 'PZN' an\n",
    "\n",
    "    # Iteriere durch die aufgeteilten PZNs und erstelle eine neue Zeile für jede\n",
    "    for pzn in pzn_list:\n",
    "        new_row = row.copy()\n",
    "        new_row['Alternative_PZN'] = pzn.strip()  # Entferne Leerzeichen um die PZN\n",
    "        new_rows.append(new_row)\n",
    "\n",
    "# Erstelle ein neues DataFrame mit den aufgeteilten Zeilen\n",
    "new_df = pd.DataFrame(new_rows)\n",
    "\n",
    "# Speichere das neue DataFrame in eine Excel-Datei\n",
    "output_file_path = 'Test213.xlsx'  # Passe den Dateipfad an\n",
    "new_df.to_excel(output_file_path, index=False)\n",
    "\n",
    "print(\"Neue Zeilen wurden erstellt und die Datei wurde gespeichert.\")\n"
   ]
  }
 ],
 "metadata": {
  "kernelspec": {
   "display_name": "Python 3 (ipykernel)",
   "language": "python",
   "name": "python3"
  },
  "language_info": {
   "codemirror_mode": {
    "name": "ipython",
    "version": 3
   },
   "file_extension": ".py",
   "mimetype": "text/x-python",
   "name": "python",
   "nbconvert_exporter": "python",
   "pygments_lexer": "ipython3",
   "version": "3.11.5"
  }
 },
 "nbformat": 4,
 "nbformat_minor": 2
}
