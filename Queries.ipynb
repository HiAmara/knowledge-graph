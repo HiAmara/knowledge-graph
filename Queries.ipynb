{
 "cells": [
  {
   "cell_type": "markdown",
   "metadata": {
    "slideshow": {
     "slide_type": "slide"
    }
   },
   "source": [
    "\n",
    "\n",
    "# Queries for Knowledge Graph \n",
    "\n",
    "Queries that can be used in Neo4J for our Knowledge Graph.\n",
    "\n",
    "Change these to fit your needs:\n",
    "* 'NAME' should be exchanged with a specific drug, substance, reason etc name you want to run the query for. Make sure it is really a name that is inside the Knowledge Graph.\n",
    "* 'KEYWORD' should be exchanged with a drug, substance, producer keyword you want to run the query for. This does not have to be the whole or exact name, it will search for this keyword and sometimes return multiple results. "
   ]
  },
  {
   "cell_type": "markdown",
   "metadata": {
    "slideshow": {
     "slide_type": "slide"
    }
   },
   "source": [
    "## Queries for specific aspects inside the graph\n",
    "\n",
    "These Queries are mostly simple, to explore single aspects of the graph."
   ]
  },
  {
   "cell_type": "markdown",
   "metadata": {
    "slideshow": {
     "slide_type": "slide"
    }
   },
   "source": [
    "### Show only the relevant to supply substances\n",
    "will return a graph will substance nodes which property relevant_to_supply is set to 'Yes'"
   ]
  },
  {
   "cell_type": "code",
   "execution_count": null,
   "metadata": {
    "slideshow": {
     "slide_type": "fragment"
    }
   },
   "outputs": [],
   "source": [
    "MATCH (substance:substance)\n",
    "WHERE substance.relevant_to_supply = 'Yes'\n",
    "RETURN substance;"
   ]
  },
  {
   "cell_type": "markdown",
   "metadata": {
    "slideshow": {
     "slide_type": "slide"
    }
   },
   "source": [
    "### Show drugs of specific dosage form\n",
    "will return a graph with drug nodes which have the same dosage form specified\n",
    "\n",
    "for example 'Retardtablette'"
   ]
  },
  {
   "cell_type": "code",
   "execution_count": null,
   "metadata": {
    "slideshow": {
     "slide_type": "fragment"
    }
   },
   "outputs": [],
   "source": [
    "MATCH (drug:drug)\n",
    "WHERE drug.dosage_form = 'NAME'\n",
    "RETURN drug;"
   ]
  },
  {
   "cell_type": "markdown",
   "metadata": {
    "slideshow": {
     "slide_type": "slide"
    }
   },
   "source": [
    "### Show one producer and all his drugs\n",
    "will return a graph with a specific producer in the middle and all their drugs. This is especially great to see if drugs of the same producer are connected alternatives.\n",
    "\n",
    "for example use 'Riemser Pharma GmbH'"
   ]
  },
  {
   "cell_type": "code",
   "execution_count": null,
   "metadata": {
    "slideshow": {
     "slide_type": "fragment"
    }
   },
   "outputs": [],
   "source": [
    "MATCH (p:producer {producer: 'NAME'})\n",
    "OPTIONAL MATCH (p)-[rel]->(otherNode)\n",
    "RETURN p, rel, otherNode;"
   ]
  },
  {
   "cell_type": "markdown",
   "metadata": {
    "slideshow": {
     "slide_type": "slide"
    }
   },
   "source": [
    "### Search for your medication\n",
    "use any keyword, it might not find anything, or it will find multiple matches. It is also possible to search for dosages or producer since these keywords are sometimes part of the drug name.\n",
    "\n",
    "for example use 'ibuprofen'\n"
   ]
  },
  {
   "cell_type": "code",
   "execution_count": null,
   "metadata": {},
   "outputs": [],
   "source": [
    "//shows only the names\n",
    "\n",
    "MATCH (drug:drug)\n",
    "WHERE drug.name =~ '(?i).*KEYWORD .*'\n",
    "RETURN drug;"
   ]
  },
  {
   "cell_type": "code",
   "execution_count": null,
   "metadata": {},
   "outputs": [],
   "source": [
    "//shows the matching drug nodes in a graph\n",
    "\n",
    "MATCH (drug:drug)\n",
    "WHERE [drug.name](http://drug.name/) =~ '(?i).*KEYWORD .*'\n",
    "RETURN drug\n",
    "LIMIT 25;  // Limiting to 25 nodes for example, adjust as needed"
   ]
  },
  {
   "cell_type": "code",
   "execution_count": null,
   "metadata": {},
   "outputs": [],
   "source": [
    "//shows the matching drug nodes and all their relationships in a graph\n",
    "\n",
    "MATCH (drug:drug)-[r]-(connectedNode)\n",
    "WHERE drug.name =~ '(?i).*KEYWORD .*'\n",
    "RETURN drug, r, connectedNode;"
   ]
  },
  {
   "cell_type": "markdown",
   "metadata": {
    "slideshow": {
     "slide_type": "slide"
    }
   },
   "source": [
    "## Queries to calculate percentages and ratios\n",
    "\n",
    "these queries show the total number of and percentages of properties "
   ]
  },
  {
   "cell_type": "markdown",
   "metadata": {
    "slideshow": {
     "slide_type": "slide"
    }
   },
   "source": [
    "### How many drugs are generic drugs\n",
    "will return the total number of drugs, generic drugs and percentage of generic drugs "
   ]
  },
  {
   "cell_type": "code",
   "execution_count": null,
   "metadata": {
    "slideshow": {
     "slide_type": "fragment"
    }
   },
   "outputs": [],
   "source": [
    "MATCH (drug:drug)\n",
    "WITH COUNT(drug) AS total_drugs, \n",
    "\t\tSUM(CASE WHEN drug.is_generic = 'TRUE' THEN 1 ELSE 0 END) AS is_generic_drugs\n",
    "RETURN total_drugs, is_generic_drugs, \n",
    "\t\ttoFloat(is_generic_drugs) / toFloat(total_drugs) AS percentage_of_total_drugs;"
   ]
  },
  {
   "cell_type": "markdown",
   "metadata": {
    "slideshow": {
     "slide_type": "slide"
    }
   },
   "source": [
    "### How many substances are relevant to supply\n",
    "will return the total number of substances, relevant to supply substances and percentage of relevant to supply substances"
   ]
  },
  {
   "cell_type": "code",
   "execution_count": null,
   "metadata": {
    "slideshow": {
     "slide_type": "fragment"
    }
   },
   "outputs": [],
   "source": [
    "MATCH (substance:substance)\n",
    "WITH COUNT(substance) AS total_Substances, \n",
    "\t\tSUM(CASE WHEN substance.relevant_to_supply = 'Yes' THEN 1 ELSE 0 END) AS relevant_to_supply_Substances\n",
    "RETURN total_Substances, relevant_to_supply_Substances, \n",
    "\t\t\ttoFloat(relevant_to_supply_Substances) / toFloat(total_Substances) AS percentage_of_relevant;"
   ]
  },
  {
   "cell_type": "markdown",
   "metadata": {
    "slideshow": {
     "slide_type": "slide"
    }
   },
   "source": [
    "### How many drugs contain substances relevant to supply\n",
    "will return the total number of drugs, relevant drugs and percentage of relevant drugs\n"
   ]
  },
  {
   "cell_type": "code",
   "execution_count": null,
   "metadata": {},
   "outputs": [],
   "source": [
    "MATCH (drug:drug)-[:has_substance]->(substance:substance)\n",
    "WITH COUNT(DISTINCT drug) AS total_Drugs,\n",
    "COUNT(DISTINCT CASE WHEN substance.relevant_to_supply = 'Yes' THEN drug END) AS relevant_to_supply_Drugs\n",
    "RETURN relevant_to_supply_Drugs, total_Drugs,\n",
    "toFloat(relevant_to_supply_Drugs) / toFloat(total_Drugs) AS percentage_of_relevant;"
   ]
  },
  {
   "cell_type": "markdown",
   "metadata": {
    "slideshow": {
     "slide_type": "slide"
    }
   },
   "source": [
    "### How many reports are issued because of specific reason\n",
    "will return the total number of reports that have been issued because of a specific reason.\n",
    "\n",
    "for example use 'Unzureichende Produktionskapazitäten'"
   ]
  },
  {
   "cell_type": "code",
   "execution_count": null,
   "metadata": {
    "slideshow": {
     "slide_type": "fragment"
    }
   },
   "outputs": [],
   "source": [
    "MATCH (m:reason {reason:'NAME'}) \n",
    "WITH m MATCH (m) <- [:because] - (r:report) \n",
    "return m.reason,count(r)"
   ]
  },
  {
   "cell_type": "markdown",
   "metadata": {
    "slideshow": {
     "slide_type": "slide"
    }
   },
   "source": [
    "### How many drugs have alternatives\n",
    "returns total count of drugs and count of drugs with have an alternative listed"
   ]
  },
  {
   "cell_type": "code",
   "execution_count": null,
   "metadata": {},
   "outputs": [],
   "source": [
    "MATCH (d:drug)-[:HAS_ALTERNATIVE]->(a:drug)\n",
    "RETURN COUNT(DISTINCT d) AS totalDrugs, COUNT(DISTINCT a) AS drugsWithAlternatives;"
   ]
  },
  {
   "cell_type": "markdown",
   "metadata": {
    "slideshow": {
     "slide_type": "slide"
    }
   },
   "source": [
    "### How many alternatives point onto themselves\n",
    "returns a graph with every drug that points to itself as an alternative"
   ]
  },
  {
   "cell_type": "code",
   "execution_count": null,
   "metadata": {},
   "outputs": [],
   "source": [
    "MATCH p=(n)-[r:HAS_ALTERNATIVE]->(n)\n",
    "RETURN p\n",
    "LIMIT 250;"
   ]
  },
  {
   "cell_type": "markdown",
   "metadata": {
    "slideshow": {
     "slide_type": "slide"
    }
   },
   "source": [
    "### How many alternatives point to each other\n",
    "returns a graph with every pair or triple of drugs that point to each other as an alternative"
   ]
  },
  {
   "cell_type": "code",
   "execution_count": null,
   "metadata": {},
   "outputs": [],
   "source": [
    "MATCH path = (n)-[*]->(n)\n",
    "RETURN path;"
   ]
  },
  {
   "cell_type": "markdown",
   "metadata": {},
   "source": [
    "## Query for Durations and Time periods"
   ]
  },
  {
   "cell_type": "markdown",
   "metadata": {},
   "source": [
    "### How long was a drug reported in days\n",
    "returns the duration of a specific drug together with the begin date and PZN"
   ]
  },
  {
   "cell_type": "code",
   "execution_count": null,
   "metadata": {},
   "outputs": [],
   "source": [
    "MATCH (report:report)-[:report_has]->(:drug {name: 'NAME'})\n",
    "RETURN duration.inDays(date(report.begin), date(report.end)).days, \n",
    "\treport.begin, report.PZN"
   ]
  },
  {
   "cell_type": "markdown",
   "metadata": {},
   "source": [
    "### Which reports go into 2024 \n",
    "returns a graph of all report nodes that end in 2024, the table view shows the report id together with the end date"
   ]
  },
  {
   "cell_type": "code",
   "execution_count": null,
   "metadata": {},
   "outputs": [],
   "source": [
    "MATCH (report:report)\n",
    "WHERE date(report.end).year = 2024\n",
    "RETURN report.report_id AS reportId, report.end AS endDate, report;"
   ]
  },
  {
   "cell_type": "markdown",
   "metadata": {},
   "source": [
    "### Which reports are active today\n",
    "returns a table with every report that time span overlaps with the current date"
   ]
  },
  {
   "cell_type": "code",
   "execution_count": null,
   "metadata": {},
   "outputs": [],
   "source": [
    "MATCH (report:report)-[:report_has]->(:drug)\n",
    "WHERE date(report.begin) <= date() AND date() <= date(report.end)\n",
    "RETURN report.report_id AS reportId, \n",
    "\t\t\t\treport.begin AS beginDate, report.end AS endDate;"
   ]
  },
  {
   "cell_type": "markdown",
   "metadata": {},
   "source": [
    "### Which reports where active in January 2023\n",
    "returns a table with every report id, begin and end date"
   ]
  },
  {
   "cell_type": "code",
   "execution_count": null,
   "metadata": {},
   "outputs": [],
   "source": [
    "MATCH (report:report)-[:report_has]->(:drug)\n",
    "WHERE date(report.begin) <= date('2023-01-31') \n",
    "\t\t\tAND date('2023-01-01') <= date(report.end)\n",
    "RETURN report.report_id AS reportId, \n",
    "\t\t\treport.begin AS beginDate, report.end AS endDate;"
   ]
  },
  {
   "cell_type": "markdown",
   "metadata": {},
   "source": [
    "### How many reports where active in January 2023\n",
    "returns the number of reports that where active in january 2023"
   ]
  },
  {
   "cell_type": "code",
   "execution_count": null,
   "metadata": {},
   "outputs": [],
   "source": [
    "MATCH (report:report)-[:report_has]->(:drug)\n",
    "WHERE date(report.begin) <= date('2023-01-31') \n",
    "\t\t\tAND date('2023-01-01') <= date(report.end)\n",
    "RETURN COUNT(report) AS numberOfReports;"
   ]
  },
  {
   "cell_type": "markdown",
   "metadata": {},
   "source": [
    "change ENDDATE and BEGINDATE to match a time period in this format :\n",
    "yyyy-mm-dd"
   ]
  },
  {
   "cell_type": "code",
   "execution_count": null,
   "metadata": {},
   "outputs": [],
   "source": [
    "MATCH (report:report)-[:report_has]->(:drug)\n",
    "WHERE date(report.begin) <= date('ENDDATE') \n",
    "\t\t\tAND date('BEGINDATE') <= date(report.end)\n",
    "RETURN COUNT(report) AS numberOfReports;"
   ]
  },
  {
   "cell_type": "markdown",
   "metadata": {},
   "source": [
    "### Average duration of all shortages "
   ]
  },
  {
   "cell_type": "code",
   "execution_count": null,
   "metadata": {},
   "outputs": [],
   "source": [
    "MATCH (r:report)\n",
    "WHERE r.time_span IS NOT NULL\n",
    "RETURN AVG(toFloat(r.time_span)) AS averageTimeSpan;"
   ]
  },
  {
   "cell_type": "markdown",
   "metadata": {},
   "source": [
    "average duration of reports that ended before 2023-10-28 , the date the original dataset was obtained:"
   ]
  },
  {
   "cell_type": "code",
   "execution_count": null,
   "metadata": {},
   "outputs": [],
   "source": [
    "MATCH (r:report)\n",
    "WHERE date(r.end) < date('2023-10-28') AND r.time_span IS NOT NULL \n",
    "RETURN AVG(toFLoat(r.time_span)) AS avgTimeSpan"
   ]
  },
  {
   "cell_type": "markdown",
   "metadata": {},
   "source": [
    "### Average Duration of Shortages for each producer\n",
    "calculates the average duration of each report for each producer\n",
    "\n",
    "we limited the reports to those that ended before 2023-10-28 , the date we obtained the original dataset, in order to eliminate estimated durations.\n",
    "\n",
    "sorted descending and ascending"
   ]
  },
  {
   "cell_type": "code",
   "execution_count": null,
   "metadata": {},
   "outputs": [],
   "source": [
    "//descending\n",
    "\n",
    "MATCH (p:producer)-[:producer_of]->(d:drug)<-[:report_has]-(report:report)\n",
    "WHERE date(report.end) < date('2023-10-28')\n",
    "WITH p, AVG(report.time_span) AS avgDuration_in_days\n",
    "RETURN p.producer AS producer, avgDuration_in_days\n",
    "ORDER BY avgDuration_in_days DESC;"
   ]
  },
  {
   "cell_type": "code",
   "execution_count": null,
   "metadata": {},
   "outputs": [],
   "source": [
    "//ascending\n",
    "\n",
    "MATCH (p:producer)-[:producer_of]->(d:drug)<-[:report_has]-(report:report)\n",
    "WHERE date(report.end) < date('2023-10-28')\n",
    "WITH p, AVG(report.time_span) AS avgDuration_in_days\n",
    "RETURN p.producer AS producer, avgDuration_in_days\n",
    "ORDER BY avgDuration_in_days ASC;"
   ]
  },
  {
   "cell_type": "markdown",
   "metadata": {},
   "source": []
  },
  {
   "cell_type": "markdown",
   "metadata": {},
   "source": [
    "## Queries using basic graph theory"
   ]
  },
  {
   "cell_type": "markdown",
   "metadata": {},
   "source": [
    "### produce an inventory of the nodes \n",
    "This above Cypher does perform an entire graph traversal and then will 'sample' out 90% of the nodes by way of inclusion of 'rand()⇐ 0.1'. As a result the numbers returned are effectively a 10% sample of the graph.\n",
    "\n",
    "source:https://neo4j.com/developer/kb/how-do-i-produce-an-inventory-of-statistics-on-nodes-relationships-properties/\n",
    "\n",
    "returns these properties for each type of node:\n",
    "Avgerage, Minimum and Maximum Number of Properties,\n",
    "Avgerage, Minimum and Maximum Number of Relationships"
   ]
  },
  {
   "cell_type": "code",
   "execution_count": null,
   "metadata": {},
   "outputs": [],
   "source": [
    "MATCH (n) WHERE rand() <= 0.1\n",
    "WITH labels(n) as labels, size(keys(n)) as props, COUNT{(n)--()} as degree\n",
    "RETURN\n",
    "DISTINCT labels,\n",
    "count(*) AS NumofNodes,\n",
    "avg(props) AS AvgNumOfPropPerNode,\n",
    "min(props) AS MinNumPropPerNode,\n",
    "max(props) AS MaxNumPropPerNode,\n",
    "avg(degree) AS AvgNumOfRelationships,\n",
    "min(degree) AS MinNumOfRelationships,\n",
    "max(degree) AS MaxNumOfRelationships"
   ]
  },
  {
   "cell_type": "markdown",
   "metadata": {},
   "source": [
    "changed query to use the whole graph and not just a 10% sample:"
   ]
  },
  {
   "cell_type": "code",
   "execution_count": null,
   "metadata": {},
   "outputs": [],
   "source": [
    "MATCH (n) WHERE rand() <= 1\n",
    "WITH labels(n) as labels, size(keys(n)) as props, COUNT{(n)--()} as degree\n",
    "RETURN\n",
    "DISTINCT labels,\n",
    "count(*) AS NumofNodes,\n",
    "avg(props) AS AvgNumOfPropPerNode,\n",
    "min(props) AS MinNumPropPerNode,\n",
    "max(props) AS MaxNumPropPerNode,\n",
    "avg(degree) AS AvgNumOfRelationships,\n",
    "min(degree) AS MinNumOfRelationships,\n",
    "max(degree) AS MaxNumOfRelationships"
   ]
  },
  {
   "cell_type": "markdown",
   "metadata": {},
   "source": [
    "### Most Central Nodes\n",
    "Returns the top 5 most central nodes. With central meaning the highest number of relationships (incoming and outcoming).\n",
    "\n",
    "\n",
    "The top 6 most central nodes of the whole graph are all reasons, that's why instead of using n.name which for reasons would return null, n.reason is used. \n",
    "\n",
    "you can adjust the query to show more or less nodes by changing the limit\n"
   ]
  },
  {
   "cell_type": "code",
   "execution_count": null,
   "metadata": {},
   "outputs": [],
   "source": [
    "MATCH (n)\n",
    "RETURN n.reason AS node, size([ (n)--() | 1 ]) AS degree\n",
    "ORDER BY degree DESC\n",
    "LIMIT 5;"
   ]
  },
  {
   "cell_type": "markdown",
   "metadata": {},
   "source": [
    "### incoming, outcoming and total degree of a node type (Knotengrad)\n",
    "here for the substance node, you can change for any other type of node"
   ]
  },
  {
   "cell_type": "markdown",
   "metadata": {},
   "source": [
    "Total:"
   ]
  },
  {
   "cell_type": "code",
   "execution_count": null,
   "metadata": {},
   "outputs": [],
   "source": [
    "// Calculate Total node degrees for substance nodes (both incoming and outgoing relationships)\n",
    "MATCH (n:substance)\n",
    "OPTIONAL MATCH (n)-[]->(outgoing)\n",
    "OPTIONAL MATCH (incoming)-[]->(n)\n",
    "WITH n, COUNT(DISTINCT outgoing) + COUNT(DISTINCT incoming) AS degree\n",
    "RETURN\n",
    "COALESCE(MIN(degree), 0) AS minDegree,\n",
    "COALESCE(AVG(degree), 0) AS avgDegree,\n",
    "COALESCE(MAX(degree), 0) AS maxDegree;"
   ]
  },
  {
   "cell_type": "markdown",
   "metadata": {},
   "source": [
    "Incoming:"
   ]
  },
  {
   "cell_type": "code",
   "execution_count": null,
   "metadata": {},
   "outputs": [],
   "source": [
    "// Calculate incoming node degrees for substance nodes\n",
    "MATCH (n:substance)\n",
    "OPTIONAL MATCH (incoming)-[]->(n)\n",
    "WITH n, COUNT(DISTINCT incoming) AS incomingDegree\n",
    "RETURN\n",
    "COALESCE(MIN(incomingDegree), 0) AS minIncomingDegree,\n",
    "COALESCE(AVG(incomingDegree), 0) AS avgIncomingDegree,\n",
    "COALESCE(MAX(incomingDegree), 0) AS maxIncomingDegree;"
   ]
  },
  {
   "cell_type": "markdown",
   "metadata": {},
   "source": [
    "Outcoming:"
   ]
  },
  {
   "cell_type": "code",
   "execution_count": null,
   "metadata": {},
   "outputs": [],
   "source": [
    "// Calculate outgoing node degrees for substance nodes\n",
    "MATCH (n:substance)\n",
    "OPTIONAL MATCH (n)-[]->(outgoing)\n",
    "WITH n, COUNT(DISTINCT outgoing) AS outgoingDegree\n",
    "RETURN\n",
    "COALESCE(MIN(outgoingDegree), 0) AS minOutgoingDegree,\n",
    "COALESCE(AVG(outgoingDegree), 0) AS avgOutgoingDegree,\n",
    "COALESCE(MAX(outgoingDegree), 0) AS maxOutgoingDegree;"
   ]
  },
  {
   "cell_type": "markdown",
   "metadata": {},
   "source": [
    "### Top 5 Treatments by number of drugs\n",
    "sorts treatments depending on which one includes the most drugs in the graph"
   ]
  },
  {
   "cell_type": "code",
   "execution_count": null,
   "metadata": {},
   "outputs": [],
   "source": [
    "MATCH (d:drug)-[:has_substance]->(:substance)-[:used_for]->(treatment:treatment)\n",
    "RETURN treatment.treatment AS treatmentGroup, COUNT(DISTINCT d) AS numberOfDrugs\n",
    "ORDER BY numberOfDrugs DESC\n",
    "LIMIT 5;"
   ]
  },
  {
   "cell_type": "markdown",
   "metadata": {},
   "source": [
    "### Top Substances by amount of drugs"
   ]
  },
  {
   "cell_type": "markdown",
   "metadata": {},
   "source": [
    "returns a graph of the top 3 substance nodes and their connected drugs"
   ]
  },
  {
   "cell_type": "code",
   "execution_count": null,
   "metadata": {},
   "outputs": [],
   "source": [
    "MATCH (s:substance)<-[:has_substance]-(d:drug)\n",
    "WITH s, COLLECT(d) AS drugs, COUNT(*) AS numDrugs\n",
    "RETURN s, numDrugs, drugs\n",
    "ORDER BY numDrugs DESC\n",
    "LIMIT 3"
   ]
  },
  {
   "cell_type": "markdown",
   "metadata": {},
   "source": [
    "returns a table with the top 10 substances by amount of drugs connected to them"
   ]
  },
  {
   "cell_type": "code",
   "execution_count": null,
   "metadata": {},
   "outputs": [],
   "source": [
    "MATCH (s:substance)<-[:has_substance]-(d:drug)\n",
    "WITH s, COLLECT(d) AS drugs, COUNT(*) AS numDrugs\n",
    "RETURN s.name AS Substance, numDrugs \n",
    "ORDER BY numDrugs DESC\n",
    "LIMIT 10"
   ]
  },
  {
   "cell_type": "markdown",
   "metadata": {},
   "source": [
    "## Top 5 drugs by amount of reports"
   ]
  },
  {
   "cell_type": "markdown",
   "metadata": {},
   "source": [
    "returns graph with top 5 drug nodes and their connected reports:"
   ]
  },
  {
   "cell_type": "code",
   "execution_count": null,
   "metadata": {},
   "outputs": [],
   "source": [
    "MATCH (d:drug)<-[:report_has]-(r:report)\n",
    "WITH d, COLLECT(r) AS reports, COUNT(*) AS degree\n",
    "RETURN d, degree, reports\n",
    "ORDER BY degree DESC\n",
    "LIMIT 5;"
   ]
  },
  {
   "cell_type": "markdown",
   "metadata": {},
   "source": [
    "returns table with pzn, drug name and degree (amount of reports):"
   ]
  },
  {
   "cell_type": "code",
   "execution_count": null,
   "metadata": {},
   "outputs": [],
   "source": [
    "MATCH (d:drug)<-[:report_has]-(r:report)\n",
    "WITH d, COLLECT(r) AS reports, COUNT(*) AS degree\n",
    "RETURN d.PZN, d.name, degree\n",
    "ORDER BY degree DESC\n",
    "LIMIT 5;"
   ]
  }
 ],
 "metadata": {
  "celltoolbar": "Slideshow",
  "kernelspec": {
   "display_name": "Python 3 (ipykernel)",
   "language": "python",
   "name": "python3"
  },
  "language_info": {
   "codemirror_mode": {
    "name": "ipython",
    "version": 3
   },
   "file_extension": ".py",
   "mimetype": "text/x-python",
   "name": "python",
   "nbconvert_exporter": "python",
   "pygments_lexer": "ipython3",
   "version": "3.11.5"
  },
  "toc": {
   "base_numbering": 1,
   "nav_menu": {},
   "number_sections": true,
   "sideBar": true,
   "skip_h1_title": false,
   "title_cell": "Table of Contents",
   "title_sidebar": "Contents",
   "toc_cell": false,
   "toc_position": {},
   "toc_section_display": true,
   "toc_window_display": true
  },
  "varInspector": {
   "cols": {
    "lenName": 16,
    "lenType": 16,
    "lenVar": 40
   },
   "kernels_config": {
    "python": {
     "delete_cmd_postfix": "",
     "delete_cmd_prefix": "del ",
     "library": "var_list.py",
     "varRefreshCmd": "print(var_dic_list())"
    },
    "r": {
     "delete_cmd_postfix": ") ",
     "delete_cmd_prefix": "rm(",
     "library": "var_list.r",
     "varRefreshCmd": "cat(var_dic_list()) "
    }
   },
   "position": {
    "height": "316.85px",
    "left": "7px",
    "right": "20px",
    "top": "469px",
    "width": "252px"
   },
   "types_to_exclude": [
    "module",
    "function",
    "builtin_function_or_method",
    "instance",
    "_Feature"
   ],
   "window_display": true
  }
 },
 "nbformat": 4,
 "nbformat_minor": 2
}
